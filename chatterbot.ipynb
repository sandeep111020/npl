{
  "nbformat": 4,
  "nbformat_minor": 0,
  "metadata": {
    "colab": {
      "name": "chatterbot.ipynb",
      "provenance": [],
      "mount_file_id": "1zdRpiSKQoX3hlgQLGHQYe59J1eLe3Ux2",
      "authorship_tag": "ABX9TyPrtGRDEiZ6PTDYeY2mH+C+",
      "include_colab_link": true
    },
    "kernelspec": {
      "name": "python3",
      "display_name": "Python 3"
    },
    "accelerator": "GPU"
  },
  "cells": [
    {
      "cell_type": "markdown",
      "metadata": {
        "id": "view-in-github",
        "colab_type": "text"
      },
      "source": [
        "<a href=\"https://colab.research.google.com/github/sandeep111020/npl/blob/master/chatterbot.ipynb\" target=\"_parent\"><img src=\"https://colab.research.google.com/assets/colab-badge.svg\" alt=\"Open In Colab\"/></a>"
      ]
    },
    {
      "cell_type": "code",
      "metadata": {
        "id": "2dI6wAj3qPJJ"
      },
      "source": [
        "pip install chatterbot"
      ],
      "execution_count": null,
      "outputs": []
    },
    {
      "cell_type": "code",
      "metadata": {
        "id": "U-rhq7bysWqg"
      },
      "source": [
        "pip install chatterbot-corpus"
      ],
      "execution_count": null,
      "outputs": []
    },
    {
      "cell_type": "code",
      "metadata": {
        "id": "cSqUNFwsrOTe"
      },
      "source": [
        "from flask import Flask, render_template, request\n",
        "from chatterbot import ChatBot \n",
        "from chatterbot.trainers import ChatterBotCorpusTrainer"
      ],
      "execution_count": null,
      "outputs": []
    },
    {
      "cell_type": "code",
      "metadata": {
        "id": "BA1V6jVEsoUl"
      },
      "source": [
        "app = Flask(__name__)\n",
        "\n",
        "english_bot = ChatBot(\"chatterbot\", storage_adapter=\"chatterbot.storage.SQLStorageAdapter\")\n",
        "trainer = ChatterBotCorpusTrainer(english_bot)\n",
        "\n",
        "trainer.train(\"chatterbot.corpus.english\")"
      ],
      "execution_count": null,
      "outputs": []
    },
    {
      "cell_type": "code",
      "metadata": {
        "id": "GDHTm8tPYa2T"
      },
      "source": [
        "@app.route(\"/\")\n",
        "def home():\n",
        "  return render_template(\"/content/drive/My Drive/ny.html\")"
      ],
      "execution_count": null,
      "outputs": []
    },
    {
      "cell_type": "code",
      "metadata": {
        "id": "LWvHzRl4Z4GZ"
      },
      "source": [
        "@app.route(\"/get\")\n",
        "def get_bot_response():\n",
        "  userText = request.args.get('msg')\n",
        "  return str(english_bot.get_response(userText))"
      ],
      "execution_count": null,
      "outputs": []
    },
    {
      "cell_type": "code",
      "metadata": {
        "id": "Df1UTF4_agIp"
      },
      "source": [
        "if __name__ == '__main__':\n",
        "  app.run()"
      ],
      "execution_count": null,
      "outputs": []
    }
  ]
}